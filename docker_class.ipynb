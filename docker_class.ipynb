{
 "cells": [
  {
   "cell_type": "markdown",
   "metadata": {},
   "source": [
    "# Docker/Container Class"
   ]
  },
  {
   "cell_type": "markdown",
   "metadata": {},
   "source": [
    "#### Made by: SSG McCracken"
   ]
  },
  {
   "cell_type": "markdown",
   "metadata": {},
   "source": [
    "## Information"
   ]
  },
  {
   "cell_type": "markdown",
   "metadata": {},
   "source": [
    "### What is a Container"
   ]
  },
  {
   "cell_type": "markdown",
   "metadata": {},
   "source": [
    "### What is Docker"
   ]
  },
  {
   "cell_type": "markdown",
   "metadata": {},
   "source": [
    "## Practical Excersices"
   ]
  },
  {
   "cell_type": "markdown",
   "metadata": {},
   "source": [
    "#### Environment Setup Script"
   ]
  },
  {
   "cell_type": "code",
   "execution_count": null,
   "metadata": {},
   "outputs": [],
   "source": [
    "!apt-get -qq update && apt-get -q upgrade -y && apt-get -qq remove -y  docker docker-engine docker.io containerd runc && apt-get -qq install -y docker.io && echo \"Done\""
   ]
  },
  {
   "cell_type": "code",
   "execution_count": null,
   "metadata": {},
   "outputs": [],
   "source": [
    "!systemctl is-active docker"
   ]
  },
  {
   "cell_type": "code",
   "execution_count": null,
   "metadata": {},
   "outputs": [],
   "source": [
    "!docker stop `docker ps -aq`; docker rm `docker ps -aq`; docker rmi `docker images -aq`"
   ]
  },
  {
   "cell_type": "markdown",
   "metadata": {},
   "source": [
    "___"
   ]
  },
  {
   "cell_type": "markdown",
   "metadata": {},
   "source": [
    "### Docker Commands"
   ]
  },
  {
   "cell_type": "markdown",
   "metadata": {},
   "source": [
    "___"
   ]
  },
  {
   "cell_type": "markdown",
   "metadata": {},
   "source": [
    "#### PS"
   ]
  },
  {
   "cell_type": "code",
   "execution_count": null,
   "metadata": {},
   "outputs": [],
   "source": [
    "!docker ps -h"
   ]
  },
  {
   "cell_type": "code",
   "execution_count": null,
   "metadata": {},
   "outputs": [],
   "source": [
    "!docker ps -a"
   ]
  },
  {
   "cell_type": "markdown",
   "metadata": {},
   "source": [
    ">In the command above we see that we have no containers in any status running. This is because we removed all containers in our initial setup above with the command below:\n",
    "> \n",
    "> ``docker stop `docker ps -aq` && docker rm `docker ps -aq` ``\n",
    ">\n",
    "> An example of all of these commands will will be below"
   ]
  },
  {
   "cell_type": "markdown",
   "metadata": {},
   "source": [
    "> Lets start a container to show what a running container looks like in `docker ps`"
   ]
  },
  {
   "cell_type": "code",
   "execution_count": null,
   "metadata": {},
   "outputs": [],
   "source": [
    "!docker run hello-world"
   ]
  },
  {
   "cell_type": "markdown",
   "metadata": {},
   "source": [
    "> Below we can show all containers with `docker ps -a`"
   ]
  },
  {
   "cell_type": "code",
   "execution_count": null,
   "metadata": {},
   "outputs": [],
   "source": [
    "!docker ps -a"
   ]
  },
  {
   "cell_type": "markdown",
   "metadata": {},
   "source": [
    "> Lets start a container that will run indefinetly to show what a running container looks like with `docker ps`"
   ]
  },
  {
   "cell_type": "code",
   "execution_count": null,
   "metadata": {},
   "outputs": [],
   "source": [
    "!docker run -d ubuntu sleep infinity"
   ]
  },
  {
   "cell_type": "markdown",
   "metadata": {},
   "source": [
    "> Below you will see three different commands\n",
    ">\n",
    "> `docker ps` shows the running container\n",
    ">\n",
    "> `docker ps -a` shows all containers\n",
    ">\n",
    "> `docker ps -aq` shows all containers but only with the container id\n",
    ">\n",
    ">> `docker ps -aq` is useful for piping all containers to commands like `docker rm `docker ps -aq` as you will see me use throughout this lesson"
   ]
  },
  {
   "cell_type": "code",
   "execution_count": null,
   "metadata": {},
   "outputs": [],
   "source": [
    "!docker ps"
   ]
  },
  {
   "cell_type": "code",
   "execution_count": null,
   "metadata": {},
   "outputs": [],
   "source": [
    "!docker ps -a"
   ]
  },
  {
   "cell_type": "code",
   "execution_count": null,
   "metadata": {},
   "outputs": [],
   "source": [
    "!docker ps -aq"
   ]
  },
  {
   "cell_type": "markdown",
   "metadata": {},
   "source": [
    "> Below you will see me stop all containers and remove them using `docker ps -aq`"
   ]
  },
  {
   "cell_type": "code",
   "execution_count": null,
   "metadata": {},
   "outputs": [],
   "source": [
    "!docker stop `docker ps -aq` && docker rm `docker ps -aq`"
   ]
  },
  {
   "cell_type": "markdown",
   "metadata": {},
   "source": [
    "> Just to verify that they are all removed we will run `docker ps -a`"
   ]
  },
  {
   "cell_type": "code",
   "execution_count": null,
   "metadata": {},
   "outputs": [],
   "source": [
    "!docker ps -a"
   ]
  },
  {
   "cell_type": "markdown",
   "metadata": {},
   "source": [
    "___"
   ]
  },
  {
   "cell_type": "markdown",
   "metadata": {},
   "source": [
    "#### Docker Images"
   ]
  },
  {
   "cell_type": "code",
   "execution_count": null,
   "metadata": {},
   "outputs": [],
   "source": [
    "!docker images -h"
   ]
  },
  {
   "cell_type": "code",
   "execution_count": null,
   "metadata": {},
   "outputs": [],
   "source": [
    "!docker images -a"
   ]
  },
  {
   "cell_type": "markdown",
   "metadata": {},
   "source": [
    "> Below I will use `docker -rmi <container name>` to remove a specific image"
   ]
  },
  {
   "cell_type": "code",
   "execution_count": null,
   "metadata": {},
   "outputs": [],
   "source": [
    "!docker rmi hello-world"
   ]
  },
  {
   "cell_type": "markdown",
   "metadata": {},
   "source": [
    "> I'll run `docker images -a` just to verify it was removed"
   ]
  },
  {
   "cell_type": "code",
   "execution_count": null,
   "metadata": {},
   "outputs": [],
   "source": [
    "!docker images -a"
   ]
  },
  {
   "cell_type": "markdown",
   "metadata": {},
   "source": [
    "> I'll use `docker pull <image name>` to pull an image to my local machine but not run it"
   ]
  },
  {
   "cell_type": "code",
   "execution_count": null,
   "metadata": {},
   "outputs": [],
   "source": [
    "!docker pull hello-world"
   ]
  },
  {
   "cell_type": "code",
   "execution_count": null,
   "metadata": {},
   "outputs": [],
   "source": [
    "!docker images -a"
   ]
  },
  {
   "cell_type": "markdown",
   "metadata": {},
   "source": [
    "___\n",
    "#### Run"
   ]
  },
  {
   "cell_type": "code",
   "execution_count": null,
   "metadata": {},
   "outputs": [],
   "source": [
    "!docker run --help"
   ]
  },
  {
   "cell_type": "markdown",
   "metadata": {},
   "source": [
    "> Above I used `docker run -d ubuntu sleep infinity` to start a ubuntu image and execute the `sleep inifinity` command in and I used the `-d` to run it in a detached status.\n",
    "> I'll do it again below"
   ]
  },
  {
   "cell_type": "code",
   "execution_count": null,
   "metadata": {},
   "outputs": [],
   "source": [
    "!docker run -d --name will_not_die ubuntu sleep infinity"
   ]
  },
  {
   "cell_type": "markdown",
   "metadata": {},
   "source": [
    "> So now we have a ubuntu container that has a process running. While the process is running the container will stay alive. Once the process completes the docker container wil exit"
   ]
  },
  {
   "cell_type": "markdown",
   "metadata": {},
   "source": [
    "> Let me demonstrate that with the command below.\n",
    ">> NOTE: This container will be ran in the \"attached\" mode."
   ]
  },
  {
   "cell_type": "code",
   "execution_count": null,
   "metadata": {},
   "outputs": [],
   "source": [
    "!docker run --name will_die ubuntu sleep 5"
   ]
  },
  {
   "cell_type": "code",
   "execution_count": null,
   "metadata": {},
   "outputs": [],
   "source": [
    "!docker ps -a"
   ]
  },
  {
   "cell_type": "markdown",
   "metadata": {},
   "source": [
    "> Above you can see that the \"will_die\" container exited, while the \"will_not_die\" is still running"
   ]
  },
  {
   "cell_type": "markdown",
   "metadata": {},
   "source": [
    "> We can attach to the container by attaching to it using `docker attach will_not_die` or `docker attach <container_id>`"
   ]
  },
  {
   "cell_type": "markdown",
   "metadata": {},
   "source": [
    "> We can map ports using `-p host_port:container_port`"
   ]
  },
  {
   "cell_type": "markdown",
   "metadata": {},
   "source": [
    ">> Note: `--rm` auto removes a docker container after it shuts down"
   ]
  },
  {
   "cell_type": "code",
   "execution_count": null,
   "metadata": {},
   "outputs": [],
   "source": [
    "!docker run --name port_test -d --rm -p 8080:80 yeasy/simple-web"
   ]
  },
  {
   "cell_type": "code",
   "execution_count": null,
   "metadata": {},
   "outputs": [],
   "source": [
    "!docker stop port_test"
   ]
  },
  {
   "cell_type": "markdown",
   "metadata": {},
   "source": [
    "___\n",
    "#### EXEC"
   ]
  },
  {
   "cell_type": "markdown",
   "metadata": {},
   "source": [
    "> We can also run a command on a container by using `docker exec`"
   ]
  },
  {
   "cell_type": "code",
   "execution_count": null,
   "metadata": {},
   "outputs": [],
   "source": [
    "!docker exec will_not_die env"
   ]
  },
  {
   "cell_type": "markdown",
   "metadata": {},
   "source": [
    "> We can also use this to get a terminal to the container using `docker exec -it <name> /bin/bash`"
   ]
  },
  {
   "cell_type": "markdown",
   "metadata": {},
   "source": [
    "___\n",
    "#### Volumes"
   ]
  },
  {
   "cell_type": "markdown",
   "metadata": {},
   "source": [
    "> Volumes are how you create persistance between docker containers, upload data to a docker, and share information between dockers"
   ]
  },
  {
   "cell_type": "markdown",
   "metadata": {},
   "source": [
    "> `docker run -v host_location:container_location ...`"
   ]
  },
  {
   "cell_type": "markdown",
   "metadata": {},
   "source": [
    ">> Note: Docker will create the directories needed on either the host or the container"
   ]
  },
  {
   "cell_type": "code",
   "execution_count": null,
   "metadata": {},
   "outputs": [],
   "source": [
    "!mkdir test_dir && touch test_dir/test.txt && ls test_dir/"
   ]
  },
  {
   "cell_type": "code",
   "execution_count": null,
   "metadata": {},
   "outputs": [],
   "source": [
    "!docker run --rm -v ~/docker_class/test_dir:/tmp/docker ubuntu ls /tmp/docker"
   ]
  },
  {
   "cell_type": "code",
   "execution_count": null,
   "metadata": {},
   "outputs": [],
   "source": [
    "!docker run --rm -v ~/docker_class/new_dir:/logs ubuntu /bin/bash -c 'echo \"This is a test\" >> /logs/log.txt'"
   ]
  },
  {
   "cell_type": "code",
   "execution_count": null,
   "metadata": {},
   "outputs": [],
   "source": [
    "!cat new_dir/log.txt"
   ]
  },
  {
   "cell_type": "code",
   "execution_count": null,
   "metadata": {},
   "outputs": [],
   "source": [
    "!rm -rf new_dir test_dir"
   ]
  },
  {
   "cell_type": "markdown",
   "metadata": {},
   "source": [
    "___\n",
    "#### INSPECT\n"
   ]
  },
  {
   "cell_type": "markdown",
   "metadata": {},
   "source": [
    "> docker inspect gives you more information than what ps will"
   ]
  },
  {
   "cell_type": "code",
   "execution_count": null,
   "metadata": {},
   "outputs": [],
   "source": [
    "!docker run -d --name inspect_test --rm -v ~/docker_class/test_dir:/logs ubuntu sleep infinity"
   ]
  },
  {
   "cell_type": "code",
   "execution_count": null,
   "metadata": {},
   "outputs": [],
   "source": [
    "!docker inspect inspect_test"
   ]
  },
  {
   "cell_type": "code",
   "execution_count": null,
   "metadata": {},
   "outputs": [],
   "source": [
    "!docker stop inspect_test"
   ]
  },
  {
   "cell_type": "markdown",
   "metadata": {},
   "source": [
    "___\n",
    "#### Environment Variables"
   ]
  },
  {
   "cell_type": "code",
   "execution_count": null,
   "metadata": {},
   "outputs": [],
   "source": [
    "script = \"\"\"\n",
    "import os\n",
    "\n",
    "variable = os.environ.get(\"TEST_VAR\")\n",
    "\n",
    "print(f\"This is the variable I was given = {variable}\")\n",
    "\"\"\""
   ]
  },
  {
   "cell_type": "code",
   "execution_count": null,
   "metadata": {},
   "outputs": [],
   "source": [
    "with open(\"print_var.py\", \"w\") as f:\n",
    "    f.write(script)"
   ]
  },
  {
   "cell_type": "code",
   "execution_count": null,
   "metadata": {},
   "outputs": [],
   "source": [
    "!python3 print_var.py"
   ]
  },
  {
   "cell_type": "code",
   "execution_count": null,
   "metadata": {},
   "outputs": [],
   "source": [
    "!docker run --rm -v \"$PWD\":/usr/src/myapp -w /usr/src/myapp python:3 python print_var.py"
   ]
  },
  {
   "cell_type": "code",
   "execution_count": null,
   "metadata": {},
   "outputs": [],
   "source": [
    "!docker run -e TEST_VAR=\"THIS IS MY TEXT\" --rm -v \"$PWD\":/usr/src/myapp -w /usr/src/myapp python:3 python print_var.py"
   ]
  },
  {
   "cell_type": "markdown",
   "metadata": {},
   "source": [
    "___\n",
    "#### Networks"
   ]
  },
  {
   "cell_type": "markdown",
   "metadata": {},
   "source": [
    "> Docker networks allows you to network containers together.\n",
    "> Networks will provide dns and dhcp\n",
    "> Docker container addresses will be thier name"
   ]
  },
  {
   "cell_type": "code",
   "execution_count": null,
   "metadata": {},
   "outputs": [],
   "source": [
    "!docker network --help"
   ]
  },
  {
   "cell_type": "code",
   "execution_count": null,
   "metadata": {},
   "outputs": [],
   "source": [
    "!docker network ls"
   ]
  },
  {
   "cell_type": "code",
   "execution_count": null,
   "metadata": {},
   "outputs": [],
   "source": [
    "!docker network create my_net"
   ]
  },
  {
   "cell_type": "code",
   "execution_count": null,
   "metadata": {},
   "outputs": [],
   "source": [
    "!docker network ls"
   ]
  },
  {
   "cell_type": "code",
   "execution_count": null,
   "metadata": {},
   "outputs": [],
   "source": [
    "!docker run -d --rm --network my_net --name rec_host ubuntu sleep infinity"
   ]
  },
  {
   "cell_type": "code",
   "execution_count": null,
   "metadata": {},
   "outputs": [],
   "source": [
    "!docker run --rm --network my_net --name send_host busybox ping -c 2 rec_host"
   ]
  },
  {
   "cell_type": "markdown",
   "metadata": {},
   "source": [
    "___\n",
    "## Dockerfiles\n",
    "___"
   ]
  },
  {
   "cell_type": "markdown",
   "metadata": {},
   "source": [
    "> Docker hub is essentially docker github"
   ]
  },
  {
   "cell_type": "markdown",
   "metadata": {},
   "source": [
    "> A Dockerfile is used to recreate everything you can do using the docker run command"
   ]
  },
  {
   "cell_type": "code",
   "execution_count": null,
   "metadata": {},
   "outputs": [],
   "source": [
    "doc_file = \"\"\"\n",
    "FROM python:3\n",
    "\n",
    "ENV TEST_VAR=\"Hi\"\n",
    "\n",
    "COPY print_var.py /usr/src/myapp/\n",
    "WORKDIR /usr/src/myapp/\n",
    "\n",
    "ENTRYPOINT python print_var.py\n",
    "\"\"\""
   ]
  },
  {
   "cell_type": "code",
   "execution_count": null,
   "metadata": {},
   "outputs": [],
   "source": [
    "with open(\"Dockerfile\", \"w\") as f:\n",
    "    f.write(doc_file)"
   ]
  },
  {
   "cell_type": "code",
   "execution_count": null,
   "metadata": {},
   "outputs": [],
   "source": [
    "!docker build -t variable_printer ."
   ]
  },
  {
   "cell_type": "code",
   "execution_count": null,
   "metadata": {},
   "outputs": [],
   "source": [
    "!docker images"
   ]
  },
  {
   "cell_type": "code",
   "execution_count": null,
   "metadata": {},
   "outputs": [],
   "source": [
    "!docker run --rm variable_printer"
   ]
  },
  {
   "cell_type": "code",
   "execution_count": null,
   "metadata": {},
   "outputs": [],
   "source": [
    "!mkdir var_printer"
   ]
  },
  {
   "cell_type": "code",
   "execution_count": null,
   "metadata": {},
   "outputs": [],
   "source": [
    "!mv Dockerfile print_var.py var_printer/."
   ]
  },
  {
   "cell_type": "markdown",
   "metadata": {},
   "source": [
    "___\n",
    "docker-compose\n",
    "___"
   ]
  },
  {
   "cell_type": "markdown",
   "metadata": {},
   "source": [
    "> docker-compose is a method of deploying multiple services (i.e. dockerfiles) using one yml"
   ]
  },
  {
   "cell_type": "code",
   "execution_count": null,
   "metadata": {},
   "outputs": [],
   "source": [
    "doc_comp = \"\"\"\n",
    "version: \"3\"\n",
    "services:\n",
    "    var_printer:\n",
    "        build: ./var_printer\n",
    "\"\"\""
   ]
  },
  {
   "cell_type": "code",
   "execution_count": null,
   "metadata": {},
   "outputs": [],
   "source": [
    "with open(\"docker-compose.yml\", \"w\") as f:\n",
    "    f.write(doc_comp)"
   ]
  },
  {
   "cell_type": "code",
   "execution_count": null,
   "metadata": {},
   "outputs": [],
   "source": [
    "!docker-compose up"
   ]
  },
  {
   "cell_type": "code",
   "execution_count": null,
   "metadata": {},
   "outputs": [],
   "source": [
    "!mkdir ping_rec ping_send"
   ]
  },
  {
   "cell_type": "code",
   "execution_count": null,
   "metadata": {},
   "outputs": [],
   "source": [
    "ping_rec = \"\"\"\n",
    "FROM ubuntu\n",
    "\n",
    "ENTRYPOINT sleep infinity\n",
    "\"\"\""
   ]
  },
  {
   "cell_type": "code",
   "execution_count": null,
   "metadata": {},
   "outputs": [],
   "source": [
    "ping_send = \"\"\"\n",
    "FROM busybox\n",
    "\n",
    "ENTRYPOINT ping ping_rec -c 20\n",
    "\"\"\""
   ]
  },
  {
   "cell_type": "code",
   "execution_count": null,
   "metadata": {},
   "outputs": [],
   "source": [
    "with open(\"ping_send/dockerfile\", \"w\") as f:\n",
    "    f.write(ping_send)"
   ]
  },
  {
   "cell_type": "code",
   "execution_count": null,
   "metadata": {},
   "outputs": [],
   "source": [
    "with open(\"ping_rec/dockerfile\", \"w\") as f:\n",
    "    f.write(ping_rec)"
   ]
  },
  {
   "cell_type": "code",
   "execution_count": null,
   "metadata": {},
   "outputs": [],
   "source": [
    "doc_comp = \"\"\"\n",
    "version: \"3\"\n",
    "services:\n",
    "    ping_send:\n",
    "        build: ./ping_send\n",
    "    ping_rec:\n",
    "        build: ./ping_rec\n",
    "\"\"\""
   ]
  },
  {
   "cell_type": "code",
   "execution_count": null,
   "metadata": {},
   "outputs": [],
   "source": [
    "with open(\"docker-compose.yml\", \"w\") as f:\n",
    "    f.write(doc_comp)"
   ]
  },
  {
   "cell_type": "code",
   "execution_count": null,
   "metadata": {},
   "outputs": [],
   "source": [
    "!docker-compose build"
   ]
  },
  {
   "cell_type": "code",
   "execution_count": null,
   "metadata": {},
   "outputs": [],
   "source": [
    "!docker-compose up"
   ]
  },
  {
   "cell_type": "code",
   "execution_count": null,
   "metadata": {},
   "outputs": [],
   "source": [
    "!docker-compose down"
   ]
  },
  {
   "cell_type": "code",
   "execution_count": null,
   "metadata": {},
   "outputs": [],
   "source": [
    "ping_send = \"\"\"\n",
    "FROM ubuntu\n",
    "\n",
    "RUN apt-get -qq update\n",
    "RUN apt-get -qq install iputils-ping\n",
    "\n",
    "ENTRYPOINT ping ping_rec -c 20\n",
    "\"\"\""
   ]
  },
  {
   "cell_type": "code",
   "execution_count": null,
   "metadata": {},
   "outputs": [],
   "source": [
    "with open(\"ping_send/dockerfile\", \"w\") as f:\n",
    "    f.write(ping_send)"
   ]
  },
  {
   "cell_type": "code",
   "execution_count": null,
   "metadata": {},
   "outputs": [],
   "source": [
    "!docker-compose build"
   ]
  },
  {
   "cell_type": "code",
   "execution_count": null,
   "metadata": {},
   "outputs": [],
   "source": [
    "!docker-compose up"
   ]
  },
  {
   "cell_type": "code",
   "execution_count": null,
   "metadata": {},
   "outputs": [],
   "source": [
    "!docker-compose down"
   ]
  },
  {
   "cell_type": "markdown",
   "metadata": {},
   "source": [
    "___\n",
    "# Assignment"
   ]
  },
  {
   "cell_type": "markdown",
   "metadata": {},
   "source": [
    "> Make the docker-compose and dockerfile for a server, and 5 clients of the below servers. This server was not my code ... don't judge me.\n",
    ">\n",
    "> The Logging file of the server must be persistent between containers"
   ]
  },
  {
   "cell_type": "code",
   "execution_count": null,
   "metadata": {},
   "outputs": [],
   "source": [
    "!rm -rf ping_* var_printer docker-compose.yml"
   ]
  },
  {
   "cell_type": "code",
   "execution_count": null,
   "metadata": {},
   "outputs": [],
   "source": [
    "server = \"\"\"\n",
    "import multiprocessing\n",
    "import socket\n",
    "\n",
    "def handle(connection, address):\n",
    "    import logging\n",
    "    logging.basicConfig(level=logging.DEBUG)\n",
    "    logger = logging.getLogger(\"process-%r\" % (address,))\n",
    "    try:\n",
    "        logger.debug(\"Connected %r at %r\", connection, address)\n",
    "        while True:\n",
    "            data = connection.recv(1024)\n",
    "            if data == \"\":\n",
    "                logger.debug(\"Socket closed remotely\")\n",
    "                break\n",
    "            logger.debug(\"Received data %r\", data)\n",
    "            connection.sendall(data)\n",
    "            logger.debug(\"Sent data\")\n",
    "    except:\n",
    "        logger.exception(\"Problem handling request\")\n",
    "    finally:\n",
    "        logger.debug(\"Closing socket\")\n",
    "        connection.close()\n",
    "\n",
    "class Server(object):\n",
    "    def __init__(self, hostname, port):\n",
    "        import logging\n",
    "        self.logger = logging.getLogger(\"server\")\n",
    "        self.hostname = hostname\n",
    "        self.port = port\n",
    "\n",
    "    def start(self):\n",
    "        self.logger.debug(\"listening\")\n",
    "        self.socket = socket.socket(socket.AF_INET, socket.SOCK_STREAM)\n",
    "        self.socket.bind((self.hostname, self.port))\n",
    "        self.socket.listen(1)\n",
    "\n",
    "        while True:\n",
    "            conn, address = self.socket.accept()\n",
    "            self.logger.debug(\"Got connection\")\n",
    "            process = multiprocessing.Process(target=handle, args=(conn, address))\n",
    "            process.daemon = True\n",
    "            process.start()\n",
    "            self.logger.debug(\"Started process %r\", process)\n",
    "\n",
    "if __name__ == \"__main__\":\n",
    "    import logging\n",
    "    logging.basicConfig(filename=\"main.log\", level=logging.DEBUG)\n",
    "    logging.getLogger().addHandler(logging.StreamHandler())\n",
    "    server = Server(\"0.0.0.0\", 9000)\n",
    "    try:\n",
    "        logging.info(\"Listening\")\n",
    "        server.start()\n",
    "    except:\n",
    "        logging.exception(\"Unexpected exception\")\n",
    "    finally:\n",
    "        logging.info(\"Shutting down\")\n",
    "        for process in multiprocessing.active_children():\n",
    "            logging.info(\"Shutting down process %r\", process)\n",
    "            process.terminate()\n",
    "            process.join()\n",
    "    logging.info(\"All done\")\n",
    "\"\"\""
   ]
  },
  {
   "cell_type": "code",
   "execution_count": null,
   "metadata": {},
   "outputs": [],
   "source": [
    "client = \"\"\"\n",
    "import socket\n",
    "import os\n",
    "from random import randint\n",
    "from time import sleep\n",
    "\n",
    "if __name__ == \"__main__\":\n",
    "    sock = socket.socket(socket.AF_INET, socket.SOCK_STREAM)\n",
    "    sock.connect((\"localhost\", 9000))\n",
    "    while(True):\n",
    "        data = socket.gethostname()\n",
    "        if not data:\n",
    "            data = \"no_data\"\n",
    "        sock.send(data.encode())\n",
    "        result = sock.recv(1024)\n",
    "        print(result)\n",
    "        sleep(randint(1,20))\n",
    "    sock.close()\n",
    "\"\"\""
   ]
  },
  {
   "cell_type": "code",
   "execution_count": null,
   "metadata": {},
   "outputs": [],
   "source": [
    "!mkdir server client"
   ]
  },
  {
   "cell_type": "code",
   "execution_count": null,
   "metadata": {},
   "outputs": [],
   "source": [
    "!chmod -R 777 server client"
   ]
  },
  {
   "cell_type": "code",
   "execution_count": null,
   "metadata": {},
   "outputs": [],
   "source": [
    "with open(\"server/server.py\", \"w\") as f:\n",
    "    f.write(server)"
   ]
  },
  {
   "cell_type": "code",
   "execution_count": null,
   "metadata": {},
   "outputs": [],
   "source": [
    "with open(\"client/client.py\", \"w\") as f:\n",
    "    f.write(client)"
   ]
  },
  {
   "cell_type": "code",
   "execution_count": null,
   "metadata": {},
   "outputs": [],
   "source": []
  }
 ],
 "metadata": {
  "kernelspec": {
   "display_name": "Python 3",
   "language": "python",
   "name": "python3"
  },
  "language_info": {
   "codemirror_mode": {
    "name": "ipython",
    "version": 3
   },
   "file_extension": ".py",
   "mimetype": "text/x-python",
   "name": "python",
   "nbconvert_exporter": "python",
   "pygments_lexer": "ipython3",
   "version": "3.8.10"
  }
 },
 "nbformat": 4,
 "nbformat_minor": 4
}
