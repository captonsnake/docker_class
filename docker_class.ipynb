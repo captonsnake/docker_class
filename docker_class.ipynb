{
 "cells": [
  {
   "cell_type": "markdown",
   "metadata": {},
   "source": [
    "# Docker/Container Class"
   ]
  },
  {
   "cell_type": "markdown",
   "metadata": {},
   "source": [
    "#### Made by: SSG McCracken"
   ]
  },
  {
   "cell_type": "markdown",
   "metadata": {},
   "source": [
    "## Information"
   ]
  },
  {
   "cell_type": "markdown",
   "metadata": {},
   "source": [
    "### What is a Container"
   ]
  },
  {
   "cell_type": "markdown",
   "metadata": {},
   "source": [
    "### What is Docker"
   ]
  },
  {
   "cell_type": "markdown",
   "metadata": {},
   "source": [
    "## Practical Excersices"
   ]
  },
  {
   "cell_type": "markdown",
   "metadata": {},
   "source": [
    "#### Environment Setup Script"
   ]
  },
  {
   "cell_type": "code",
   "execution_count": 40,
   "metadata": {},
   "outputs": [
    {
     "name": "stdout",
     "output_type": "stream",
     "text": [
      "Reading package lists...\n",
      "Building dependency tree...\n",
      "Reading state information...\n",
      "Calculating upgrade...\n",
      "The following packages were automatically installed and are no longer required:\n",
      "  libfprint-2-tod1 libllvm10 libllvm11 libllvm9 linux-headers-5.8.0-53-generic\n",
      "  linux-hwe-5.8-headers-5.8.0-53 linux-image-5.8.0-53-generic\n",
      "  linux-modules-5.8.0-53-generic linux-modules-extra-5.8.0-53-generic\n",
      "  python3-cached-property python3-docker python3-dockerpty python3-docopt\n",
      "  python3-texttable python3-websocket\n",
      "Use 'sudo apt autoremove' to remove them.\n",
      "0 upgraded, 0 newly installed, 0 to remove and 0 not upgraded.\n",
      "(Reading database ... 242106 files and directories currently installed.)\n",
      "Removing docker.io (20.10.7-0ubuntu1~20.04.1) ...\n",
      "'/usr/share/docker.io/contrib/nuke-graph-directory.sh' -> '/var/lib/docker/nuke-graph-directory.sh'\n",
      "Removing containerd (1.5.2-0ubuntu1~20.04.2) ...\n",
      "Removing runc (1.0.0~rc95-0ubuntu1~20.04.2) ...\n",
      "Processing triggers for man-db (2.9.1-1) ...\n",
      "Preconfiguring packages ...\n",
      "Selecting previously unselected package runc.\n",
      "(Reading database ... 241846 files and directories currently installed.)\n",
      "Preparing to unpack .../runc_1.0.0~rc95-0ubuntu1~20.04.2_amd64.deb ...\n",
      "Unpacking runc (1.0.0~rc95-0ubuntu1~20.04.2) ...\n",
      "Selecting previously unselected package containerd.\n",
      "Preparing to unpack .../containerd_1.5.2-0ubuntu1~20.04.2_amd64.deb ...\n",
      "Unpacking containerd (1.5.2-0ubuntu1~20.04.2) ...\n",
      "Selecting previously unselected package docker.io.\n",
      "Preparing to unpack .../docker.io_20.10.7-0ubuntu1~20.04.1_amd64.deb ...\n",
      "Unpacking docker.io (20.10.7-0ubuntu1~20.04.1) ...\n",
      "Setting up runc (1.0.0~rc95-0ubuntu1~20.04.2) ...\n",
      "Setting up containerd (1.5.2-0ubuntu1~20.04.2) ...\n",
      "Setting up docker.io (20.10.7-0ubuntu1~20.04.1) ...\n",
      "Processing triggers for man-db (2.9.1-1) ...\n",
      "Done\n"
     ]
    }
   ],
   "source": [
    "!apt-get -qq update && apt-get -q upgrade -y && apt-get -qq remove -y  docker docker-engine docker.io containerd runc && apt-get -qq install -y docker.io && echo \"Done\""
   ]
  },
  {
   "cell_type": "code",
   "execution_count": 41,
   "metadata": {},
   "outputs": [
    {
     "name": "stdout",
     "output_type": "stream",
     "text": [
      "active\n"
     ]
    }
   ],
   "source": [
    "!systemctl is-active docker"
   ]
  },
  {
   "cell_type": "code",
   "execution_count": 123,
   "metadata": {},
   "outputs": [
    {
     "name": "stdout",
     "output_type": "stream",
     "text": [
      "\"docker stop\" requires at least 1 argument.\n",
      "See 'docker stop --help'.\n",
      "\n",
      "Usage:  docker stop [OPTIONS] CONTAINER [CONTAINER...]\n",
      "\n",
      "Stop one or more running containers\n",
      "\"docker rm\" requires at least 1 argument.\n",
      "See 'docker rm --help'.\n",
      "\n",
      "Usage:  docker rm [OPTIONS] CONTAINER [CONTAINER...]\n",
      "\n",
      "Remove one or more containers\n",
      "Untagged: ubuntu:latest\n",
      "Untagged: ubuntu@sha256:9d6a8699fb5c9c39cf08a0871bd6219f0400981c570894cd8cbea30d3424a31f\n",
      "Deleted: sha256:fb52e22af1b01869e23e75089c368a1130fa538946d0411d47f964f8b1076180\n",
      "Deleted: sha256:4942a1abcbfa1c325b1d7ed93d3cf6020f555be706672308a4a4a6b6d631d2e7\n",
      "Untagged: alpine:latest\n",
      "Untagged: alpine@sha256:e1c082e3d3c45cccac829840a25941e679c25d438cc8412c2fa221cf1a824e6a\n",
      "Deleted: sha256:14119a10abf4669e8cdbdff324a9f9605d99697215a0d21c360fe8dfa8471bab\n",
      "Deleted: sha256:e2eb06d8af8218cfec8210147357a68b7e13f7c485b991c288c2d01dc228bb68\n",
      "Untagged: spurin/diveintoansible:portal\n",
      "Untagged: spurin/diveintoansible@sha256:7836d47176865e0314caaa6ecff920f5b923daac1d5f45d105c5eb2cf60a076e\n",
      "Deleted: sha256:53291e69040f70a74c624d5e90c9a9e42574a10831baae358482d3aa3671798e\n",
      "Deleted: sha256:17df8408941e9c0f3051a17c8338f93d1749405236c2bb34d7d0b22042b698ee\n",
      "Deleted: sha256:60f04d4bcef6aa4103f37afb5eced91b49ffe24b6099acaa7c98ed3af8091fb9\n",
      "Deleted: sha256:20364fd7b303c4b53e3f6bef9d26986cd6ee3cd55181d0f43bba2a2cb002c813\n",
      "Deleted: sha256:263c1d3321ceeba1030d165a4c6ce1d2abe1926fb5a58d3290aa1434d4a3b251\n",
      "Deleted: sha256:c32d51bcf68473072475a2396d0e6a04c8a0500c4e87bcbe1ffc9868d778e4b6\n",
      "Deleted: sha256:9a43e6d83e127ff7e38b1321df5919e86fb90c1a109b1218c888ba685a3f865f\n",
      "Deleted: sha256:cdb66505811b778bf0ea0cb7df0b5d4424a92bdb9a3ec281b087d70aad16deee\n",
      "Deleted: sha256:8f72638764ada0022a461b1194683aacbec0eb0defe9f8cb1c0e46d0a1758671\n",
      "Deleted: sha256:346fddbbb0ff19bdb026afb053df490c0c73981a8a985882cf8ee3d716735e87\n",
      "Untagged: spurin/diveintoansible:centos-sshd-2222\n",
      "Untagged: spurin/diveintoansible@sha256:9e3a0d2b3f00085c26885a66d90b5c40332a8a2ef5ea9c242ca074a6546b9e5b\n",
      "Deleted: sha256:6db8b231bb180e602c078b51d989260353967aa1684f48aaca6994eb2e0c77ed\n",
      "Deleted: sha256:5e73d0eb9579052d43d7d76898625cfa1ca38cee8a59bdb7d367a6702a5e077d\n",
      "Deleted: sha256:c84cb5740ed835ccd4900541bdaee4d32e048decad51a68242c423193ace7636\n",
      "Deleted: sha256:36c615a98af12cab86f0b66d2891cd9559ca6bb811270a8a02244ef99d4105fb\n",
      "Deleted: sha256:c4fe229b2e153895828cc58195115843bb0697c0bdd508e4a2997bae68d9649e\n",
      "Deleted: sha256:6b4ecf5a94d7d495cfc50da8722636820187701acf1c39496a844ec76681ff01\n",
      "Untagged: spurin/diveintoansible:centos\n",
      "Untagged: spurin/diveintoansible@sha256:feacec0a3f62489e086021c2184f0398360cb85795ef039502fcba2155e5cec4\n",
      "Deleted: sha256:ad5b67de8cd5ef3623df9ed48e62413525a43a2b93426d22d5a0ee9ed029a6f0\n",
      "Deleted: sha256:290d0906a042c88a61247aed0a6a71d4747d6b3e2f0dc02d9cedc1be139017a0\n",
      "Deleted: sha256:898a10f7e7685561b90492ba422d81c5c1342ebcc73ac70c8c55b3b079db3468\n",
      "Deleted: sha256:ef0ab57bc977a19d0632f8f78b11231605689255e4d7a464cf3495825cc70b2f\n",
      "Deleted: sha256:e56eb89c232719208dffb5ff76eb5029139091f3b571727c72e3483e89f21743\n",
      "Deleted: sha256:903c0cdc38908ea91e4a27f41a4406e971b0815a64d45e9b22f4a4e6d121113e\n",
      "Deleted: sha256:f861b6bba7ab2828d70e13c5ed030aa042ea3d7c712a5e52c15ba1523a6c861d\n",
      "Deleted: sha256:824c2538527cf015c8b31eb3b9ba4f81295da0e65d6c6f63c7a7ee9e65a472cd\n",
      "Deleted: sha256:ada55f7595e2298686fda8920ac243003ef520580260744996fed45f5b431199\n",
      "Deleted: sha256:8552250f34bbdcb7e38e9e1661582661e3ab19aa799184f8a6f0345d324691e5\n",
      "Deleted: sha256:6269ed82d5ba4f5d818cfba02b45bc11e2269b618c7b43afc74eb7046fa08ae6\n",
      "Deleted: sha256:187b37ac59c96e19d1d7905aebdc956f6e147b78a320c9868ae219fa84beaa18\n",
      "Deleted: sha256:ff24f6401d9aee153db7487e34923ad885646ccaa1dede2aa4da1c15e8114fe3\n",
      "Deleted: sha256:0dfd24273c96eb99301052d131bf8b1a98abf5810ecc55218139ef314a9f981e\n",
      "Deleted: sha256:c40846a2dcb53d8eb7485a7aceb4e0af82b838061437f708d741eb9a974907b7\n",
      "Deleted: sha256:f0233718578dbff35705446db27783df6bb41b11b5e803a4be29cdf77dff6b3d\n",
      "Deleted: sha256:61b478e802b2a7ecc553d693bf36268dc71c149fb90b7195e1cdf4ecb9244481\n",
      "Deleted: sha256:870438c47eeb8fa9eafb6739c663ad28b30d306c3be51e465e0a76451ad7c324\n",
      "Deleted: sha256:d2e64414de20b5d8d5f5dc3988305af6400c8b5bdce93957bce7117785c94f29\n",
      "Deleted: sha256:49254ecdb496e174c4828cb19f70c544169ad5e3af05fcf75380d02e9492e2c2\n",
      "Deleted: sha256:0d18f994b304f58dcf79e75d80fb39e7e65de8fdd28caf865763a8d230a8fa6b\n",
      "Deleted: sha256:ab984e882694b23d9b7d86596db2f4c492ec516f71f1f71dd457a8b4efe84d89\n",
      "Deleted: sha256:352ba209f63c8da9fec354146ebbbd40805913f6902d6604a0c514a1fc896624\n",
      "Deleted: sha256:2653d992f4ef2bfd27f94db643815aa567240c37732cae1405ad1c1309ee9859\n",
      "Untagged: spurin/diveintoansible:ansible\n",
      "Untagged: spurin/diveintoansible@sha256:1f6c2140403cd5b16a774c7f84e1eb94bb0eb55a10d0aa34c0df3af4673e6fc5\n",
      "Deleted: sha256:e3a758f34606bb7d717ef558cabff0bf452d7247ae0647b4fa6513c9f22b5fb5\n",
      "Deleted: sha256:d2b68627452d40b519e88d0c2e468bbec893561bd2be5f2d0ce6413aabacb5ec\n",
      "Deleted: sha256:35deff11040e73ef119f65582ba21d4f0a244aa26f0f3792a1e60403387c3ca6\n",
      "Deleted: sha256:c39441936b7d43ace678df90139dd50c65726ab2a17166c3f6bb5ce77271a98f\n",
      "Deleted: sha256:eda5c7772845016afa27bbf75f2b5fd605672bec4523e25926ba5c2470ddfbed\n",
      "Deleted: sha256:ecb4f9712bb10d1b0b4be7329637f42f76569342e0d94bf513aeadc4a772c5e6\n",
      "Deleted: sha256:88eec992c89fcc468a4a8078d9e17a6f48254e60de0a7fa2b94249025c8c44d7\n",
      "Deleted: sha256:74b90a111b160e7ec3789f6a8dd40d0eaf6c604470db2a930b72c701389b667b\n",
      "Deleted: sha256:fb86a7fe212083fa058df4ab60dd2cd61372565e3f891daea4c196f74c9ad237\n",
      "Untagged: spurin/diveintoansible:ubuntu\n",
      "Untagged: spurin/diveintoansible@sha256:298fbe61ecd8a64befade9eca6d3c4f25e3456610b6a8d1089bbc1bb3204ea17\n",
      "Deleted: sha256:fd47aa2a0c24a104a4c703831a6d194953b7a061a9164202d2fb29d71c178d8d\n",
      "Deleted: sha256:824cc1b19d3104cf606fb392aec93d5ee6ea92f493d18738a1a0af3282cdacd6\n",
      "Deleted: sha256:93ddf4e13568f6c37e1d2bb542017b9310589a6bda9ff6264092e15c4e548efc\n",
      "Deleted: sha256:599d63a53a8e3c974bb1d0e8ce23cb2d5f6b157881f41927825e716be0b09098\n",
      "Deleted: sha256:a619d50882ca33cd8f3ebee10f2d35419876d8c43ac08d7dfda4a075369809ba\n",
      "Deleted: sha256:b712d6f03950e38d94eefb77ff3ca9405a3ecba3888f4dc2d62597e4a0bb64a7\n",
      "Deleted: sha256:668b0ec6573dd9465415a6e5153b91c1a5a828d1e421c599f76e7e0624a09f40\n",
      "Deleted: sha256:0be62d141ae701ab26446a0127d617af3e7f557898ddce1183da51a282ff6689\n",
      "Deleted: sha256:a666fa0610b474d936ac4baf1e0be9b040cd3f0e30a5076160a604a728ad30b3\n",
      "Deleted: sha256:5bdd0c16a5d0b1c900b1d76450cae14e43d2f0a6a587520b8be5240e418be61a\n",
      "Deleted: sha256:3a2689b315536adc6c5cf1805b15f7b527d8a912fec66c1179be2bcc2ba92fe7\n",
      "Deleted: sha256:b94736214192a0f4d451f8fec73dd990688d1834646736545c31d1f5b9aa70cb\n",
      "Deleted: sha256:be8e4e474edf83be7ca2dd2c681916c4c9d087661ef436453732e81855a7096f\n",
      "Deleted: sha256:5f81ba1ce7306e3e1c303d0968f5c757c7132df217a67cd16bd7b083506b0748\n",
      "Deleted: sha256:3b9d3c3bcff04ca33f24c38c94812b79ac7f4977bf1b89c820cb1e944331201a\n",
      "Deleted: sha256:bc3eadb256df902ed6575761377aff6b67e44e461ad8d50a73eccb4ebe92bea8\n",
      "Deleted: sha256:be10e7ae9ff0a5cfa23012ad7dcf6e07c3d980d077948c2f4b503fede13b46c5\n",
      "Deleted: sha256:de620663823480e23f247e5e753c312ce2b1ef8b2f4c129e71342f9a5ce6e28f\n",
      "Deleted: sha256:cba82e5efea1e3c14903e3c9dc2d03c0d3227d0035d4deb2a191e393ba021ae5\n",
      "Deleted: sha256:16d2fe720a97e2669c10ce01fcaba830bd0445fd2e581893e8550e534b279667\n",
      "Deleted: sha256:6904af3f74f828dcf734817cdb54671737947307a88ba7ecf6da2997fc776982\n",
      "Deleted: sha256:95bc1f83306cc7ebaa959492929d6624b0cc1bb6ba61be1cd04fed7d39b002fc\n",
      "Deleted: sha256:a0fcf305193749a4fe8c9da074c4781a0f1e63f2c5b5a979a88597ada5c74645\n",
      "Deleted: sha256:aeb3f02e937406fb402a926ce5cebc7da79b14dbcb4f85a5ce0e3855623cec80\n",
      "Untagged: spurin/diveintoansible:dind\n",
      "Untagged: spurin/diveintoansible@sha256:13df3e0405efac005143305fef876e4071067ece61495eac92f3f0bd407cd49d\n",
      "Deleted: sha256:ebfa76a6f6d9f2234b9f2394bad0dce667141568b17508343508da3a35aaac57\n",
      "Deleted: sha256:b6c85295d6f40a2f22f80b2770c02f902a06a7ea66a06d2035d4707dfa38cf68\n",
      "Deleted: sha256:46f36e8f7404f7bed24af8454175bda5cec257ba5b5ec2203b6342410b3e4373\n",
      "Deleted: sha256:1a32e9c7d8e960689de1f5e49b962a325f828446f52a40f7d20ec12a5700a1b3\n",
      "Deleted: sha256:32197943e9af0bd52be5c8908a8091776595fd63fc5f88a0e315b551150fc091\n",
      "Deleted: sha256:2a4795348c000703fe78b4c8930be811083f8e9ed3ed6d1b1e83709269ad29e2\n",
      "Deleted: sha256:32322d0eba47f7c37ef3c0d0919abd11aaec6771a76112aa95c8a1e71fa3d44b\n",
      "Deleted: sha256:d8d49296ef33ac0c87d8bb913360d7b0f463bfdefe7d1ad886cac14b751839d2\n",
      "Deleted: sha256:56ea3eb64a0422f7106a68689cebd67b41796bcfc193cbdb9ba07d5623146a23\n",
      "Deleted: sha256:44b38e62200ca4f173946e7528118d45f8afb1a2b6d4b82068e736e8d7f57462\n",
      "Deleted: sha256:028530563b619fa4b46d395ba7e697484c1bb0e90c3a578b7116474e0d71cfab\n",
      "Deleted: sha256:b05831ef2f5fd009732bb3b9b13a003c2858b6726cc778f9527f6d51151d67e7\n",
      "Deleted: sha256:e336f54a20acb14da960b8c9bfede09ef7f10058db62f0dd3e49e7c8d0a64949\n",
      "Deleted: sha256:cb381a32b2296e4eb5af3f84092a2e6685e88adbc54ee0768a1a1010ce6376c7\n",
      "Untagged: hello-world:latest\n",
      "Untagged: hello-world@sha256:7d91b69e04a9029b99f3585aaaccae2baa80bcf318f4a5d2165a9898cd2dc0a1\n",
      "Deleted: sha256:d1165f2212346b2bab48cb01c1e39ee8ad1be46b87873d9ca7a4e434980a7726\n",
      "Deleted: sha256:f22b99068db93900abe17f7f5e09ec775c2826ecfe9db961fea68293744144bd\n"
     ]
    }
   ],
   "source": [
    "!docker stop `docker ps -aq`; docker rm `docker ps -aq`; docker rmi `docker images -aq`"
   ]
  },
  {
   "cell_type": "markdown",
   "metadata": {},
   "source": [
    "___"
   ]
  },
  {
   "cell_type": "markdown",
   "metadata": {},
   "source": [
    "### Docker Commands"
   ]
  },
  {
   "cell_type": "markdown",
   "metadata": {},
   "source": [
    "___"
   ]
  },
  {
   "cell_type": "markdown",
   "metadata": {},
   "source": [
    "#### PS"
   ]
  },
  {
   "cell_type": "code",
   "execution_count": 124,
   "metadata": {},
   "outputs": [
    {
     "name": "stdout",
     "output_type": "stream",
     "text": [
      "Flag shorthand -h has been deprecated, please use --help\n",
      "\n",
      "Usage:  docker ps [OPTIONS]\n",
      "\n",
      "List containers\n",
      "\n",
      "Options:\n",
      "  -a, --all             Show all containers (default shows just running)\n",
      "  -f, --filter filter   Filter output based on conditions provided\n",
      "      --format string   Pretty-print containers using a Go template\n",
      "  -n, --last int        Show n last created containers (includes all\n",
      "                        states) (default -1)\n",
      "  -l, --latest          Show the latest created container (includes all\n",
      "                        states)\n",
      "      --no-trunc        Don't truncate output\n",
      "  -q, --quiet           Only display container IDs\n",
      "  -s, --size            Display total file sizes\n"
     ]
    }
   ],
   "source": [
    "!docker ps -h"
   ]
  },
  {
   "cell_type": "code",
   "execution_count": 125,
   "metadata": {},
   "outputs": [
    {
     "name": "stdout",
     "output_type": "stream",
     "text": [
      "CONTAINER ID   IMAGE     COMMAND   CREATED   STATUS    PORTS     NAMES\n"
     ]
    }
   ],
   "source": [
    "!docker ps -a"
   ]
  },
  {
   "cell_type": "markdown",
   "metadata": {},
   "source": [
    ">In the command above we see that we have no containers in any status running. This is because we removed all containers in our initial setup above with the command below:\n",
    "> \n",
    "> ``docker stop `docker ps -aq` && docker rm `docker ps -aq` ``\n",
    ">\n",
    "> An example of all of these commands will will be below"
   ]
  },
  {
   "cell_type": "markdown",
   "metadata": {},
   "source": [
    "> Lets start a container to show what a running container looks like in `docker ps`"
   ]
  },
  {
   "cell_type": "code",
   "execution_count": 126,
   "metadata": {},
   "outputs": [
    {
     "name": "stdout",
     "output_type": "stream",
     "text": [
      "Unable to find image 'hello-world:latest' locally\n",
      "latest: Pulling from library/hello-world\n",
      "\n",
      "\u001b[1Bde127a29: Pull complete 529kB/2.529kBB\u001b[1A\u001b[2KDigest: sha256:7d91b69e04a9029b99f3585aaaccae2baa80bcf318f4a5d2165a9898cd2dc0a1\n",
      "Status: Downloaded newer image for hello-world:latest\n",
      "\n",
      "Hello from Docker!\n",
      "This message shows that your installation appears to be working correctly.\n",
      "\n",
      "To generate this message, Docker took the following steps:\n",
      " 1. The Docker client contacted the Docker daemon.\n",
      " 2. The Docker daemon pulled the \"hello-world\" image from the Docker Hub.\n",
      "    (amd64)\n",
      " 3. The Docker daemon created a new container from that image which runs the\n",
      "    executable that produces the output you are currently reading.\n",
      " 4. The Docker daemon streamed that output to the Docker client, which sent it\n",
      "    to your terminal.\n",
      "\n",
      "To try something more ambitious, you can run an Ubuntu container with:\n",
      " $ docker run -it ubuntu bash\n",
      "\n",
      "Share images, automate workflows, and more with a free Docker ID:\n",
      " https://hub.docker.com/\n",
      "\n",
      "For more examples and ideas, visit:\n",
      " https://docs.docker.com/get-started/\n",
      "\n"
     ]
    }
   ],
   "source": [
    "!docker run hello-world"
   ]
  },
  {
   "cell_type": "markdown",
   "metadata": {},
   "source": [
    "> Below we can show all containers with `docker ps -a`"
   ]
  },
  {
   "cell_type": "code",
   "execution_count": 127,
   "metadata": {},
   "outputs": [
    {
     "name": "stdout",
     "output_type": "stream",
     "text": [
      "CONTAINER ID   IMAGE         COMMAND    CREATED         STATUS                     PORTS     NAMES\n",
      "22cccc58823a   hello-world   \"/hello\"   4 seconds ago   Exited (0) 2 seconds ago             relaxed_antonelli\n"
     ]
    }
   ],
   "source": [
    "!docker ps -a"
   ]
  },
  {
   "cell_type": "markdown",
   "metadata": {},
   "source": [
    "> Lets start a container that will run indefinetly to show what a running container looks like with `docker ps`"
   ]
  },
  {
   "cell_type": "code",
   "execution_count": 128,
   "metadata": {},
   "outputs": [
    {
     "name": "stdout",
     "output_type": "stream",
     "text": [
      "Unable to find image 'ubuntu:latest' locally\n",
      "latest: Pulling from library/ubuntu\n",
      "\n",
      "\u001b[1B7b77a593: Pull complete .57MB/28.57MBB\u001b[1A\u001b[2K\u001b[1A\u001b[2K\u001b[1A\u001b[2K\u001b[1A\u001b[2K\u001b[1A\u001b[2K\u001b[1A\u001b[2K\u001b[1A\u001b[2K\u001b[1A\u001b[2K\u001b[1A\u001b[2K\u001b[1A\u001b[2K\u001b[1A\u001b[2K\u001b[1A\u001b[2K\u001b[1A\u001b[2K\u001b[1A\u001b[2K\u001b[1A\u001b[2K\u001b[1A\u001b[2K\u001b[1A\u001b[2K\u001b[1A\u001b[2K\u001b[1A\u001b[2K\u001b[1A\u001b[2K\u001b[1A\u001b[2K\u001b[1A\u001b[2K\u001b[1A\u001b[2K\u001b[1A\u001b[2K\u001b[1A\u001b[2K\u001b[1A\u001b[2K\u001b[1A\u001b[2K\u001b[1A\u001b[2K\u001b[1A\u001b[2K\u001b[1A\u001b[2KDigest: sha256:9d6a8699fb5c9c39cf08a0871bd6219f0400981c570894cd8cbea30d3424a31f\n",
      "Status: Downloaded newer image for ubuntu:latest\n",
      "dc4c58ea4312b60216dc4de32eef05de461a3d385819df285b1210f638be7331\n"
     ]
    }
   ],
   "source": [
    "!docker run -d ubuntu sleep infinity"
   ]
  },
  {
   "cell_type": "markdown",
   "metadata": {},
   "source": [
    "> Below you will see three different commands\n",
    ">\n",
    "> `docker ps` shows the running container\n",
    ">\n",
    "> `docker ps -a` shows all containers\n",
    ">\n",
    "> `docker ps -aq` shows all containers but only with the container id\n",
    ">\n",
    ">> `docker ps -aq` is useful for piping all containers to commands like `docker rm `docker ps -aq` as you will see me use throughout this lesson"
   ]
  },
  {
   "cell_type": "code",
   "execution_count": 129,
   "metadata": {},
   "outputs": [
    {
     "name": "stdout",
     "output_type": "stream",
     "text": [
      "CONTAINER ID   IMAGE     COMMAND            CREATED         STATUS         PORTS     NAMES\n",
      "dc4c58ea4312   ubuntu    \"sleep infinity\"   7 seconds ago   Up 4 seconds             crazy_ardinghelli\n"
     ]
    }
   ],
   "source": [
    "!docker ps"
   ]
  },
  {
   "cell_type": "code",
   "execution_count": 130,
   "metadata": {},
   "outputs": [
    {
     "name": "stdout",
     "output_type": "stream",
     "text": [
      "CONTAINER ID   IMAGE         COMMAND            CREATED          STATUS                      PORTS     NAMES\n",
      "dc4c58ea4312   ubuntu        \"sleep infinity\"   8 seconds ago    Up 5 seconds                          crazy_ardinghelli\n",
      "22cccc58823a   hello-world   \"/hello\"           18 seconds ago   Exited (0) 17 seconds ago             relaxed_antonelli\n"
     ]
    }
   ],
   "source": [
    "!docker ps -a"
   ]
  },
  {
   "cell_type": "code",
   "execution_count": 131,
   "metadata": {},
   "outputs": [
    {
     "name": "stdout",
     "output_type": "stream",
     "text": [
      "dc4c58ea4312\n",
      "22cccc58823a\n"
     ]
    }
   ],
   "source": [
    "!docker ps -aq"
   ]
  },
  {
   "cell_type": "markdown",
   "metadata": {},
   "source": [
    "> Below you will see me stop all containers and remove them using `docker ps -aq`"
   ]
  },
  {
   "cell_type": "code",
   "execution_count": 132,
   "metadata": {},
   "outputs": [
    {
     "name": "stdout",
     "output_type": "stream",
     "text": [
      "dc4c58ea4312\n",
      "22cccc58823a\n",
      "dc4c58ea4312\n",
      "22cccc58823a\n"
     ]
    }
   ],
   "source": [
    "!docker stop `docker ps -aq` && docker rm `docker ps -aq`"
   ]
  },
  {
   "cell_type": "markdown",
   "metadata": {},
   "source": [
    "> Just to verify that they are all removed we will run `docker ps -a`"
   ]
  },
  {
   "cell_type": "code",
   "execution_count": 133,
   "metadata": {},
   "outputs": [
    {
     "name": "stdout",
     "output_type": "stream",
     "text": [
      "CONTAINER ID   IMAGE     COMMAND   CREATED   STATUS    PORTS     NAMES\n"
     ]
    }
   ],
   "source": [
    "!docker ps -a"
   ]
  },
  {
   "cell_type": "markdown",
   "metadata": {},
   "source": [
    "___"
   ]
  },
  {
   "cell_type": "markdown",
   "metadata": {},
   "source": [
    "#### Docker Images"
   ]
  },
  {
   "cell_type": "code",
   "execution_count": 134,
   "metadata": {},
   "outputs": [
    {
     "name": "stdout",
     "output_type": "stream",
     "text": [
      "Flag shorthand -h has been deprecated, please use --help\n",
      "\n",
      "Usage:  docker images [OPTIONS] [REPOSITORY[:TAG]]\n",
      "\n",
      "List images\n",
      "\n",
      "Options:\n",
      "  -a, --all             Show all images (default hides intermediate images)\n",
      "      --digests         Show digests\n",
      "  -f, --filter filter   Filter output based on conditions provided\n",
      "      --format string   Pretty-print images using a Go template\n",
      "      --no-trunc        Don't truncate output\n",
      "  -q, --quiet           Only show image IDs\n"
     ]
    }
   ],
   "source": [
    "!docker images -h"
   ]
  },
  {
   "cell_type": "code",
   "execution_count": 135,
   "metadata": {},
   "outputs": [
    {
     "name": "stdout",
     "output_type": "stream",
     "text": [
      "REPOSITORY    TAG       IMAGE ID       CREATED        SIZE\n",
      "ubuntu        latest    fb52e22af1b0   8 days ago     72.8MB\n",
      "hello-world   latest    d1165f221234   6 months ago   13.3kB\n"
     ]
    }
   ],
   "source": [
    "!docker images -a"
   ]
  },
  {
   "cell_type": "markdown",
   "metadata": {},
   "source": [
    "> Below I will use `docker -rmi <container name>` to remove a specific image"
   ]
  },
  {
   "cell_type": "code",
   "execution_count": 136,
   "metadata": {},
   "outputs": [
    {
     "name": "stdout",
     "output_type": "stream",
     "text": [
      "Untagged: hello-world:latest\n",
      "Untagged: hello-world@sha256:7d91b69e04a9029b99f3585aaaccae2baa80bcf318f4a5d2165a9898cd2dc0a1\n",
      "Deleted: sha256:d1165f2212346b2bab48cb01c1e39ee8ad1be46b87873d9ca7a4e434980a7726\n",
      "Deleted: sha256:f22b99068db93900abe17f7f5e09ec775c2826ecfe9db961fea68293744144bd\n"
     ]
    }
   ],
   "source": [
    "!docker rmi hello-world"
   ]
  },
  {
   "cell_type": "markdown",
   "metadata": {},
   "source": [
    "> I'll run `docker images -a` just to verify it was removed"
   ]
  },
  {
   "cell_type": "code",
   "execution_count": 137,
   "metadata": {},
   "outputs": [
    {
     "name": "stdout",
     "output_type": "stream",
     "text": [
      "REPOSITORY   TAG       IMAGE ID       CREATED      SIZE\n",
      "ubuntu       latest    fb52e22af1b0   8 days ago   72.8MB\n"
     ]
    }
   ],
   "source": [
    "!docker images -a"
   ]
  },
  {
   "cell_type": "markdown",
   "metadata": {},
   "source": [
    "> I'll use `docker pull <image name>` to pull an image to my local machine but not run it"
   ]
  },
  {
   "cell_type": "code",
   "execution_count": 138,
   "metadata": {},
   "outputs": [
    {
     "name": "stdout",
     "output_type": "stream",
     "text": [
      "Using default tag: latest\n",
      "latest: Pulling from library/hello-world\n",
      "\n",
      "\u001b[1Bde127a29: Pull complete 529kB/2.529kBB\u001b[1A\u001b[2KDigest: sha256:7d91b69e04a9029b99f3585aaaccae2baa80bcf318f4a5d2165a9898cd2dc0a1\n",
      "Status: Downloaded newer image for hello-world:latest\n",
      "docker.io/library/hello-world:latest\n"
     ]
    }
   ],
   "source": [
    "!docker pull hello-world"
   ]
  },
  {
   "cell_type": "code",
   "execution_count": 139,
   "metadata": {},
   "outputs": [
    {
     "name": "stdout",
     "output_type": "stream",
     "text": [
      "REPOSITORY    TAG       IMAGE ID       CREATED        SIZE\n",
      "ubuntu        latest    fb52e22af1b0   8 days ago     72.8MB\n",
      "hello-world   latest    d1165f221234   6 months ago   13.3kB\n"
     ]
    }
   ],
   "source": [
    "!docker images -a"
   ]
  },
  {
   "cell_type": "markdown",
   "metadata": {},
   "source": [
    "___\n",
    "#### Run"
   ]
  },
  {
   "cell_type": "code",
   "execution_count": 141,
   "metadata": {},
   "outputs": [
    {
     "name": "stdout",
     "output_type": "stream",
     "text": [
      "\n",
      "Usage:  docker run [OPTIONS] IMAGE [COMMAND] [ARG...]\n",
      "\n",
      "Run a command in a new container\n",
      "\n",
      "Options:\n",
      "      --add-host list                  Add a custom host-to-IP mapping\n",
      "                                       (host:ip)\n",
      "  -a, --attach list                    Attach to STDIN, STDOUT or STDERR\n",
      "      --blkio-weight uint16            Block IO (relative weight),\n",
      "                                       between 10 and 1000, or 0 to\n",
      "                                       disable (default 0)\n",
      "      --blkio-weight-device list       Block IO weight (relative device\n",
      "                                       weight) (default [])\n",
      "      --cap-add list                   Add Linux capabilities\n",
      "      --cap-drop list                  Drop Linux capabilities\n",
      "      --cgroup-parent string           Optional parent cgroup for the\n",
      "                                       container\n",
      "      --cgroupns string                Cgroup namespace to use\n",
      "                                       (host|private)\n",
      "                                       'host':    Run the container in\n",
      "                                       the Docker host's cgroup namespace\n",
      "                                       'private': Run the container in\n",
      "                                       its own private cgroup namespace\n",
      "                                       '':        Use the cgroup\n",
      "                                       namespace as configured by the\n",
      "                                                  default-cgroupns-mode\n",
      "                                       option on the daemon (default)\n",
      "      --cidfile string                 Write the container ID to the file\n",
      "      --cpu-period int                 Limit CPU CFS (Completely Fair\n",
      "                                       Scheduler) period\n",
      "      --cpu-quota int                  Limit CPU CFS (Completely Fair\n",
      "                                       Scheduler) quota\n",
      "      --cpu-rt-period int              Limit CPU real-time period in\n",
      "                                       microseconds\n",
      "      --cpu-rt-runtime int             Limit CPU real-time runtime in\n",
      "                                       microseconds\n",
      "  -c, --cpu-shares int                 CPU shares (relative weight)\n",
      "      --cpus decimal                   Number of CPUs\n",
      "      --cpuset-cpus string             CPUs in which to allow execution\n",
      "                                       (0-3, 0,1)\n",
      "      --cpuset-mems string             MEMs in which to allow execution\n",
      "                                       (0-3, 0,1)\n",
      "  -d, --detach                         Run container in background and\n",
      "                                       print container ID\n",
      "      --detach-keys string             Override the key sequence for\n",
      "                                       detaching a container\n",
      "      --device list                    Add a host device to the container\n",
      "      --device-cgroup-rule list        Add a rule to the cgroup allowed\n",
      "                                       devices list\n",
      "      --device-read-bps list           Limit read rate (bytes per second)\n",
      "                                       from a device (default [])\n",
      "      --device-read-iops list          Limit read rate (IO per second)\n",
      "                                       from a device (default [])\n",
      "      --device-write-bps list          Limit write rate (bytes per\n",
      "                                       second) to a device (default [])\n",
      "      --device-write-iops list         Limit write rate (IO per second)\n",
      "                                       to a device (default [])\n",
      "      --disable-content-trust          Skip image verification (default true)\n",
      "      --dns list                       Set custom DNS servers\n",
      "      --dns-option list                Set DNS options\n",
      "      --dns-search list                Set custom DNS search domains\n",
      "      --domainname string              Container NIS domain name\n",
      "      --entrypoint string              Overwrite the default ENTRYPOINT\n",
      "                                       of the image\n",
      "  -e, --env list                       Set environment variables\n",
      "      --env-file list                  Read in a file of environment variables\n",
      "      --expose list                    Expose a port or a range of ports\n",
      "      --gpus gpu-request               GPU devices to add to the\n",
      "                                       container ('all' to pass all GPUs)\n",
      "      --group-add list                 Add additional groups to join\n",
      "      --health-cmd string              Command to run to check health\n",
      "      --health-interval duration       Time between running the check\n",
      "                                       (ms|s|m|h) (default 0s)\n",
      "      --health-retries int             Consecutive failures needed to\n",
      "                                       report unhealthy\n",
      "      --health-start-period duration   Start period for the container to\n",
      "                                       initialize before starting\n",
      "                                       health-retries countdown\n",
      "                                       (ms|s|m|h) (default 0s)\n",
      "      --health-timeout duration        Maximum time to allow one check to\n",
      "                                       run (ms|s|m|h) (default 0s)\n",
      "      --help                           Print usage\n",
      "  -h, --hostname string                Container host name\n",
      "      --init                           Run an init inside the container\n",
      "                                       that forwards signals and reaps\n",
      "                                       processes\n",
      "  -i, --interactive                    Keep STDIN open even if not attached\n",
      "      --ip string                      IPv4 address (e.g., 172.30.100.104)\n",
      "      --ip6 string                     IPv6 address (e.g., 2001:db8::33)\n",
      "      --ipc string                     IPC mode to use\n",
      "      --isolation string               Container isolation technology\n",
      "      --kernel-memory bytes            Kernel memory limit\n",
      "  -l, --label list                     Set meta data on a container\n",
      "      --label-file list                Read in a line delimited file of labels\n",
      "      --link list                      Add link to another container\n",
      "      --link-local-ip list             Container IPv4/IPv6 link-local\n",
      "                                       addresses\n",
      "      --log-driver string              Logging driver for the container\n",
      "      --log-opt list                   Log driver options\n",
      "      --mac-address string             Container MAC address (e.g.,\n",
      "                                       92:d0:c6:0a:29:33)\n",
      "  -m, --memory bytes                   Memory limit\n",
      "      --memory-reservation bytes       Memory soft limit\n",
      "      --memory-swap bytes              Swap limit equal to memory plus\n",
      "                                       swap: '-1' to enable unlimited swap\n",
      "      --memory-swappiness int          Tune container memory swappiness\n",
      "                                       (0 to 100) (default -1)\n",
      "      --mount mount                    Attach a filesystem mount to the\n",
      "                                       container\n",
      "      --name string                    Assign a name to the container\n",
      "      --network network                Connect a container to a network\n",
      "      --network-alias list             Add network-scoped alias for the\n",
      "                                       container\n",
      "      --no-healthcheck                 Disable any container-specified\n",
      "                                       HEALTHCHECK\n",
      "      --oom-kill-disable               Disable OOM Killer\n",
      "      --oom-score-adj int              Tune host's OOM preferences (-1000\n",
      "                                       to 1000)\n",
      "      --pid string                     PID namespace to use\n",
      "      --pids-limit int                 Tune container pids limit (set -1\n",
      "                                       for unlimited)\n",
      "      --platform string                Set platform if server is\n",
      "                                       multi-platform capable\n",
      "      --privileged                     Give extended privileges to this\n",
      "                                       container\n",
      "  -p, --publish list                   Publish a container's port(s) to\n",
      "                                       the host\n",
      "  -P, --publish-all                    Publish all exposed ports to\n",
      "                                       random ports\n",
      "      --pull string                    Pull image before running\n",
      "                                       (\"always\"|\"missing\"|\"never\")\n",
      "                                       (default \"missing\")\n",
      "      --read-only                      Mount the container's root\n",
      "                                       filesystem as read only\n",
      "      --restart string                 Restart policy to apply when a\n",
      "                                       container exits (default \"no\")\n",
      "      --rm                             Automatically remove the container\n",
      "                                       when it exits\n",
      "      --runtime string                 Runtime to use for this container\n",
      "      --security-opt list              Security Options\n",
      "      --shm-size bytes                 Size of /dev/shm\n",
      "      --sig-proxy                      Proxy received signals to the\n",
      "                                       process (default true)\n",
      "      --stop-signal string             Signal to stop a container\n",
      "                                       (default \"SIGTERM\")\n",
      "      --stop-timeout int               Timeout (in seconds) to stop a\n",
      "                                       container\n",
      "      --storage-opt list               Storage driver options for the\n",
      "                                       container\n",
      "      --sysctl map                     Sysctl options (default map[])\n",
      "      --tmpfs list                     Mount a tmpfs directory\n",
      "  -t, --tty                            Allocate a pseudo-TTY\n",
      "      --ulimit ulimit                  Ulimit options (default [])\n",
      "  -u, --user string                    Username or UID (format:\n",
      "                                       <name|uid>[:<group|gid>])\n",
      "      --userns string                  User namespace to use\n",
      "      --uts string                     UTS namespace to use\n",
      "  -v, --volume list                    Bind mount a volume\n",
      "      --volume-driver string           Optional volume driver for the\n",
      "                                       container\n",
      "      --volumes-from list              Mount volumes from the specified\n",
      "                                       container(s)\n",
      "  -w, --workdir string                 Working directory inside the container\n"
     ]
    }
   ],
   "source": [
    "!docker run --help"
   ]
  },
  {
   "cell_type": "markdown",
   "metadata": {},
   "source": [
    "> Above I used `docker run -d ubuntu sleep infinity` to start a ubuntu image and execute the `sleep inifinity` command in and I used the `-d` to run it in a detached status.\n",
    "> I'll do it again below"
   ]
  },
  {
   "cell_type": "code",
   "execution_count": 149,
   "metadata": {},
   "outputs": [
    {
     "name": "stdout",
     "output_type": "stream",
     "text": [
      "bd36d6f48d692e87bdc2b9758cbf47669c9a6d2f41427cacf7c7510aa2135cb6\n"
     ]
    }
   ],
   "source": [
    "!docker run -d --name will_not_die ubuntu sleep infinity"
   ]
  },
  {
   "cell_type": "markdown",
   "metadata": {},
   "source": [
    "> So now we have a ubuntu container that has a process running. While the process is running the container will stay alive. Once the process completes the docker container wil exit"
   ]
  },
  {
   "cell_type": "markdown",
   "metadata": {},
   "source": [
    "> Let me demonstrate that with the command below.\n",
    ">> NOTE: This container will be ran in the \"attached\" mode."
   ]
  },
  {
   "cell_type": "code",
   "execution_count": 152,
   "metadata": {},
   "outputs": [
    {
     "name": "stdout",
     "output_type": "stream",
     "text": [
      "docker: Error response from daemon: Conflict. The container name \"/will_die\" is already in use by container \"1552a9ef0668e79248344503b9175afb6df4204fb38214093d927150c4c696b7\". You have to remove (or rename) that container to be able to reuse that name.\n",
      "See 'docker run --help'.\n"
     ]
    }
   ],
   "source": [
    "!docker run --name will_die ubuntu sleep 5"
   ]
  },
  {
   "cell_type": "code",
   "execution_count": 153,
   "metadata": {},
   "outputs": [
    {
     "name": "stdout",
     "output_type": "stream",
     "text": [
      "CONTAINER ID   IMAGE     COMMAND            CREATED              STATUS                          PORTS     NAMES\n",
      "1552a9ef0668   ubuntu    \"sleep 5\"          About a minute ago   Exited (0) About a minute ago             will_die\n",
      "bd36d6f48d69   ubuntu    \"sleep infinity\"   About a minute ago   Up About a minute                         will_not_die\n"
     ]
    }
   ],
   "source": [
    "!docker ps -a"
   ]
  },
  {
   "cell_type": "markdown",
   "metadata": {},
   "source": [
    "> Above you can see that the \"will_die\" container exited, while the \"will_not_die\" is still running"
   ]
  },
  {
   "cell_type": "markdown",
   "metadata": {},
   "source": [
    "> We can attach to the container by attaching to it using `docker attach will_not_die` or `docker attach <container_id>`"
   ]
  },
  {
   "cell_type": "markdown",
   "metadata": {},
   "source": [
    "> We can map ports using `-p host_port:container_port`"
   ]
  },
  {
   "cell_type": "code",
   "execution_count": 164,
   "metadata": {},
   "outputs": [
    {
     "name": "stdout",
     "output_type": "stream",
     "text": [
      "7d369c03d1e26892fb8fefaa319b7b09aa7cbfd7cec6265823dd2e65a1f7ce42\n"
     ]
    }
   ],
   "source": [
    "!docker run --name port_test -d --rm -p 8080:80 yeasy/simple-web"
   ]
  },
  {
   "cell_type": "code",
   "execution_count": 166,
   "metadata": {},
   "outputs": [
    {
     "name": "stdout",
     "output_type": "stream",
     "text": [
      "Error response from daemon: No such container: port_test\n"
     ]
    }
   ],
   "source": [
    "!docker stop port_test"
   ]
  },
  {
   "cell_type": "markdown",
   "metadata": {},
   "source": [
    "___\n",
    "#### EXEC"
   ]
  },
  {
   "cell_type": "markdown",
   "metadata": {},
   "source": [
    "> We can also run a command on a container by using `docker exec`"
   ]
  },
  {
   "cell_type": "code",
   "execution_count": 159,
   "metadata": {},
   "outputs": [
    {
     "name": "stdout",
     "output_type": "stream",
     "text": [
      "PATH=/usr/local/sbin:/usr/local/bin:/usr/sbin:/usr/bin:/sbin:/bin\n",
      "HOSTNAME=bd36d6f48d69\n",
      "HOME=/root\n"
     ]
    }
   ],
   "source": [
    "!docker exec will_not_die env"
   ]
  },
  {
   "cell_type": "markdown",
   "metadata": {},
   "source": [
    "> We can also use this to get a terminal to the container using `docker exec -it <name> /bin/bash`"
   ]
  },
  {
   "cell_type": "code",
   "execution_count": null,
   "metadata": {},
   "outputs": [],
   "source": []
  }
 ],
 "metadata": {
  "kernelspec": {
   "display_name": "Python 3",
   "language": "python",
   "name": "python3"
  },
  "language_info": {
   "codemirror_mode": {
    "name": "ipython",
    "version": 3
   },
   "file_extension": ".py",
   "mimetype": "text/x-python",
   "name": "python",
   "nbconvert_exporter": "python",
   "pygments_lexer": "ipython3",
   "version": "3.8.10"
  }
 },
 "nbformat": 4,
 "nbformat_minor": 4
}
